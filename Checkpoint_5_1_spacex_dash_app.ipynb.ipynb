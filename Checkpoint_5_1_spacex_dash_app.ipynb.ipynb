{
    "cells": [
        {
            "cell_type": "code",
            "execution_count": 1,
            "metadata": {},
            "outputs": [
                {
                    "name": "stdout",
                    "output_type": "stream",
                    "text": "Requirement already satisfied: pandas in /opt/conda/envs/Python-3.9/lib/python3.9/site-packages (1.3.4)\nRequirement already satisfied: dash in /opt/conda/envs/Python-3.9/lib/python3.9/site-packages (2.5.1)\nRequirement already satisfied: python-dateutil>=2.7.3 in /opt/conda/envs/Python-3.9/lib/python3.9/site-packages (from pandas) (2.8.2)\nRequirement already satisfied: pytz>=2017.3 in /opt/conda/envs/Python-3.9/lib/python3.9/site-packages (from pandas) (2021.3)\nRequirement already satisfied: numpy>=1.17.3 in /opt/conda/envs/Python-3.9/lib/python3.9/site-packages (from pandas) (1.20.3)\nRequirement already satisfied: dash-core-components==2.0.0 in /opt/conda/envs/Python-3.9/lib/python3.9/site-packages (from dash) (2.0.0)\nRequirement already satisfied: Flask>=1.0.4 in /opt/conda/envs/Python-3.9/lib/python3.9/site-packages (from dash) (2.1.2)\nRequirement already satisfied: dash-html-components==2.0.0 in /opt/conda/envs/Python-3.9/lib/python3.9/site-packages (from dash) (2.0.0)\nRequirement already satisfied: flask-compress in /opt/conda/envs/Python-3.9/lib/python3.9/site-packages (from dash) (1.12)\nRequirement already satisfied: dash-table==5.0.0 in /opt/conda/envs/Python-3.9/lib/python3.9/site-packages (from dash) (5.0.0)\nRequirement already satisfied: plotly>=5.0.0 in /opt/conda/envs/Python-3.9/lib/python3.9/site-packages (from dash) (5.1.0)\nRequirement already satisfied: itsdangerous>=2.0 in /opt/conda/envs/Python-3.9/lib/python3.9/site-packages (from Flask>=1.0.4->dash) (2.1.2)\nRequirement already satisfied: Jinja2>=3.0 in /opt/conda/envs/Python-3.9/lib/python3.9/site-packages (from Flask>=1.0.4->dash) (3.0.2)\nRequirement already satisfied: Werkzeug>=2.0 in /opt/conda/envs/Python-3.9/lib/python3.9/site-packages (from Flask>=1.0.4->dash) (2.0.2)\nRequirement already satisfied: click>=8.0 in /opt/conda/envs/Python-3.9/lib/python3.9/site-packages (from Flask>=1.0.4->dash) (8.0.4)\nRequirement already satisfied: importlib-metadata>=3.6.0 in /opt/conda/envs/Python-3.9/lib/python3.9/site-packages (from Flask>=1.0.4->dash) (4.8.2)\nRequirement already satisfied: zipp>=0.5 in /opt/conda/envs/Python-3.9/lib/python3.9/site-packages (from importlib-metadata>=3.6.0->Flask>=1.0.4->dash) (3.6.0)\nRequirement already satisfied: MarkupSafe>=2.0 in /opt/conda/envs/Python-3.9/lib/python3.9/site-packages (from Jinja2>=3.0->Flask>=1.0.4->dash) (2.0.1)\nRequirement already satisfied: tenacity>=6.2.0 in /opt/conda/envs/Python-3.9/lib/python3.9/site-packages (from plotly>=5.0.0->dash) (8.0.1)\nRequirement already satisfied: six in /opt/conda/envs/Python-3.9/lib/python3.9/site-packages (from plotly>=5.0.0->dash) (1.15.0)\nRequirement already satisfied: brotli in /opt/conda/envs/Python-3.9/lib/python3.9/site-packages (from flask-compress->dash) (1.0.9)\nRequirement already satisfied: waitress in /opt/conda/envs/Python-3.9/lib/python3.9/site-packages (2.1.2)\n"
                }
            ],
            "source": "!pip3 install pandas dash"
        },
        {
            "cell_type": "code",
            "execution_count": 2,
            "metadata": {},
            "outputs": [
                {
                    "name": "stdout",
                    "output_type": "stream",
                    "text": "--2022-07-03 08:01:27--  https://cf-courses-data.s3.us.cloud-object-storage.appdomain.cloud/IBM-DS0321EN-SkillsNetwork/datasets/spacex_launch_dash.csv\nResolving cf-courses-data.s3.us.cloud-object-storage.appdomain.cloud (cf-courses-data.s3.us.cloud-object-storage.appdomain.cloud)... 169.63.118.104\nConnecting to cf-courses-data.s3.us.cloud-object-storage.appdomain.cloud (cf-courses-data.s3.us.cloud-object-storage.appdomain.cloud)|169.63.118.104|:443... connected.\nHTTP request sent, awaiting response... 200 OK\nLength: 2476 (2.4K) [text/csv]\nSaving to: \u2018spacex_launch_dash.csv.2\u2019\n\nspacex_launch_dash. 100%[===================>]   2.42K  --.-KB/s    in 0s      \n\n2022-07-03 08:01:28 (40.9 MB/s) - \u2018spacex_launch_dash.csv.2\u2019 saved [2476/2476]\n\n"
                }
            ],
            "source": "!wget \"https://cf-courses-data.s3.us.cloud-object-storage.appdomain.cloud/IBM-DS0321EN-SkillsNetwork/datasets/spacex_launch_dash.csv\""
        },
        {
            "cell_type": "code",
            "execution_count": 3,
            "metadata": {},
            "outputs": [
                {
                    "name": "stdout",
                    "output_type": "stream",
                    "text": "--2022-07-03 08:01:30--  https://cf-courses-data.s3.us.cloud-object-storage.appdomain.cloud/IBM-DS0321EN-SkillsNetwork/labs/module_3/spacex_dash_app.py\nResolving cf-courses-data.s3.us.cloud-object-storage.appdomain.cloud (cf-courses-data.s3.us.cloud-object-storage.appdomain.cloud)... 169.63.118.104\nConnecting to cf-courses-data.s3.us.cloud-object-storage.appdomain.cloud (cf-courses-data.s3.us.cloud-object-storage.appdomain.cloud)|169.63.118.104|:443... connected.\nHTTP request sent, awaiting response... 200 OK\nLength: 2110 (2.1K) [text/x-python]\nSaving to: \u2018spacex_dash_app.py.2\u2019\n\nspacex_dash_app.py. 100%[===================>]   2.06K  --.-KB/s    in 0s      \n\n2022-07-03 08:01:31 (25.3 MB/s) - \u2018spacex_dash_app.py.2\u2019 saved [2110/2110]\n\n"
                }
            ],
            "source": "!wget \"https://cf-courses-data.s3.us.cloud-object-storage.appdomain.cloud/IBM-DS0321EN-SkillsNetwork/labs/module_3/spacex_dash_app.py\""
        },
        {
            "cell_type": "code",
            "execution_count": 10,
            "metadata": {},
            "outputs": [],
            "source": "# Import required libraries\nimport pandas as pd\nimport dash\nfrom dash import html\nfrom dash import dcc\nfrom dash.dependencies import Input, Output\nimport plotly.express as px"
        },
        {
            "cell_type": "code",
            "execution_count": 5,
            "metadata": {},
            "outputs": [],
            "source": "# Read the airline data into pandas dataframe\nspacex_df = pd.read_csv(\"spacex_launch_dash.csv\")\nmax_payload = spacex_df['Payload Mass (kg)'].max()\nmin_payload = spacex_df['Payload Mass (kg)'].min()"
        },
        {
            "cell_type": "code",
            "execution_count": 6,
            "metadata": {},
            "outputs": [],
            "source": "# Create a dash application\napp = dash.Dash(__name__)\n\n# Create an app layout\napp.layout = html.Div(children=[html.H1('SpaceX Launch Records Dashboard',\n                                        style={'textAlign': 'center', 'color': '#503D36',\n                                               'font-size': 40}),\n                                # TASK 1: Add a dropdown list to enable Launch Site selection\n                                # The default select value is for ALL sites\n                                dcc.Dropdown(id='site-dropdown',\n                                options = [\n                                            {'label':'All sites', 'value' : 'ALL'},\n                                            {'label':'CCAFS LC-40', 'value':'CCAFS LC-40'},\n                                            {'label':'CCAFS SLC-40', 'value':'CCAFS SLC-40'},\n                                            {'label':'KSC LC-39A', 'value':'KSC LC-39A'},\n                                            {'label':'VAFB SLC-4E', 'value':'VAFB SLC-4E'}\n                                        ], value = 'ALL', placeholder='Select Launch Site here',\n                                            searchable = True),\n                                html.Br(),\n\n                                # TASK 2: Add a pie chart to show the total successful launches count for all sites\n                                # If a specific launch site was selected, show the Success vs. Failed counts for the site\n                                html.Div(dcc.Graph(id='success-pie-chart')),\n                                html.Br(),\n\n                                html.P(\"Payload range (Kg):\"),\n                                # TASK 3: Add a slider to select payload range\n                                dcc.RangeSlider(id='payload-slider', min = 0, \n                                                max = 10000,step = 1000,\n                                                value = [min_payload,max_payload]\n                                           ),\n\n                                # TASK 4: Add a scatter chart to show the correlation between payload and launch success\n                                html.Div(dcc.Graph(id='success-payload-scatter-chart')),\n                                ]\n                )\n"
        },
        {
            "cell_type": "code",
            "execution_count": 7,
            "metadata": {},
            "outputs": [],
            "source": "# TASK 2:\n# Add a callback function for `site-dropdown` as input, `success-pie-chart` as output\n@app.callback( Output(component_id= 'success-pie-chart', component_property='figure'),\n                Input(component_id ='site-dropdown', component_property='value')\n                )\ndef get_pie_chart(entered_site):\n    filtered_df = spacex_df[spacex_df['Launch Site']==entered_site]\n    if entered_site == 'ALL':\n        fig_pie = px.pie(spacex_df, values='class', \n        names='Launch Site', \n        title='Site-wise Success rate')\n        return fig_pie\n    else:\n        fig_pie = px.pie(filtered_df, \n        names= 'class', \n        title = 'Launch Success rate of site ' + entered_site)\n        return fig_pie\n        \n        # return the outcomes piechart for a selected site"
        },
        {
            "cell_type": "code",
            "execution_count": null,
            "metadata": {
                "scrolled": false
            },
            "outputs": [
                {
                    "name": "stdout",
                    "output_type": "stream",
                    "text": "Dash is running on http://127.0.0.1:8080/\n\n"
                },
                {
                    "name": "stderr",
                    "output_type": "stream",
                    "text": "INFO:__main__:Dash is running on http://127.0.0.1:8080/\n\n"
                },
                {
                    "name": "stdout",
                    "output_type": "stream",
                    "text": " * Serving Flask app '__main__' (lazy loading)\n * Environment: production\n\u001b[31m   WARNING: This is a development server. Do not use it in a production deployment.\u001b[0m\n\u001b[2m   Use a production WSGI server instead.\u001b[0m\n * Debug mode: off\n"
                }
            ],
            "source": "# TASK 4:\n# Add a callback function for `site-dropdown` and `payload-slider` as inputs, `success-payload-scatter-chart` as output\n@app.callback(Output(component_id= 'success-payload-scatter-chart', component_property='figure'),\n                    [Input(component_id ='site-dropdown', component_property='value'),\n                    Input(component_id='payload-slider', component_property='value')\n                    ]\n)\ndef get_scatter_chart(entered_site,payload):\n    print(payload)\n    low, high = payload\n    filtered_df = spacex_df[spacex_df['Payload Mass (kg)'].between(low,high)]\n    if entered_site == 'ALL':\n        fig_scat = px.scatter(filtered_df, x= 'Payload Mass (kg)',\n                        y= 'class',\n                        color = 'Booster Version Category',\n                        title = 'Correlation : payload Vs class',\n                        )\n        return fig_scat\n    else:\n        filtered_df = filtered_df[filtered_df['Launch Site']==entered_site]\n        fig_scat= px.scatter(filtered_df, x= 'Payload Mass (kg)',\n                        y= 'class',\n                        title = \"Correlation : payload Vs class\",\n                        color = \"Booster Version Category\")\n        return fig_scat\n\n# Run the app\n\nif __name__ == '__main__':\n    app.run_server(port=8080)\n"
        },
        {
            "cell_type": "code",
            "execution_count": null,
            "metadata": {},
            "outputs": [],
            "source": ""
        }
    ],
    "metadata": {
        "kernelspec": {
            "display_name": "Python 3.9",
            "language": "python",
            "name": "python3"
        },
        "language_info": {
            "codemirror_mode": {
                "name": "ipython",
                "version": 3
            },
            "file_extension": ".py",
            "mimetype": "text/x-python",
            "name": "python",
            "nbconvert_exporter": "python",
            "pygments_lexer": "ipython3",
            "version": "3.9.12"
        }
    },
    "nbformat": 4,
    "nbformat_minor": 1
}